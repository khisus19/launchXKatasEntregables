{
 "cells": [
  {
   "cell_type": "markdown",
   "metadata": {},
   "source": [
    "## Ejercicio: Uso de funciones en Python\n",
    "### Ejercicio 1: Trabajar con argumentos en funciones\n",
    "\n",
    "Los argumentos requeridos en las funciones se utilizan cuando las funciones necesitan que esos argumentos funcionen correctamente. En este ejercicio, construirás un informe de combustible que requiere información de varias ubicaciones de combustible en todo el cohete.\n",
    "\n",
    "Comienza por crear una función que necesite tres lecturas de combustible y devuelva un informe:"
   ]
  },
  {
   "cell_type": "code",
   "execution_count": null,
   "metadata": {},
   "outputs": [],
   "source": [
    "# Función para leer 3 tanques de combustible y muestre el promedio\n",
    "def combustible(tanque1, tanque2, tanque3):\n",
    "    average = (tanque1 + tanque2 + tanque3) / 3\n",
    "    return f'''Reporte de combustible:\n",
    "    Promedio total: {average}\n",
    "    Tanque 1: {tanque1}\n",
    "    Tanque 2: {tanque2}\n",
    "    Tanque 3: {tanque3}'''\n"
   ]
  },
  {
   "cell_type": "code",
   "execution_count": null,
   "metadata": {},
   "outputs": [],
   "source": [
    "# Llamamos a la función que genera el reporte print(funcion(tanque1, tanque2, tanque3))\n",
    "combustible(30,25,47)"
   ]
  },
  {
   "cell_type": "code",
   "execution_count": 72,
   "metadata": {},
   "outputs": [
    {
     "data": {
      "text/plain": [
       "81.0"
      ]
     },
     "execution_count": 72,
     "metadata": {},
     "output_type": "execute_result"
    }
   ],
   "source": [
    "# Función promedio \n",
    "def average(a, b, c):\n",
    "    total = a + b + c\n",
    "    numero_de_tanques = 3\n",
    "    return total / numero_de_tanques\n",
    "\n",
    "# Probando la función\n",
    "average(80, 82, 81) "
   ]
  },
  {
   "cell_type": "code",
   "execution_count": 73,
   "metadata": {},
   "outputs": [
    {
     "name": "stdout",
     "output_type": "stream",
     "text": [
      "Reporte de combustible:\n",
      "    Promedio total: 78.0\n",
      "    Tanque 1: 88%\n",
      "    Tanque 2: 76%\n",
      "    Tanque 3: 70%\n",
      "    \n"
     ]
    }
   ],
   "source": [
    "# Actualiza la función\n",
    "def combustible(tanque1, tanque2, tanque3):\n",
    "    return f\"\"\"Reporte de combustible:\n",
    "    Promedio total: {average(tanque1, tanque2, tanque3)}\n",
    "    Tanque 1: {tanque1}%\n",
    "    Tanque 2: {tanque2}%\n",
    "    Tanque 3: {tanque3}%\n",
    "    \"\"\"\n",
    "\n",
    "print(combustible(88, 76, 70))"
   ]
  },
  {
   "cell_type": "markdown",
   "metadata": {},
   "source": [
    "## Ejercicio 2: Trabajo con argumentos de palabra clave\n",
    "### Ejercicio : Trabajar con argumentos de palabras clave en funciones\n",
    "\n",
    "En este ejercicio, construirás un informe de cohete que requiere varias piezas de información, como el tiempo hasta el destino, el combustible a la izquierda y el nombre del destino. Comienza por crear una función que creará un informe preciso de la misión:\n"
   ]
  },
  {
   "cell_type": "code",
   "execution_count": 74,
   "metadata": {},
   "outputs": [
    {
     "name": "stdout",
     "output_type": "stream",
     "text": [
      "Informe de la misión:\n",
      "    Hora de prelanzamiento: 14\n",
      "    Tiempo de vuelo: 51\n",
      "    Destino: Moon\n",
      "    Tanque externo: 200000\n",
      "    Tanque interno: 300000\n"
     ]
    }
   ],
   "source": [
    "# Función con un informe preciso de la misión. Considera hora de prelanzamiento, tiempo de vuelo, destino, tanque externo y tanque interno\n",
    "def informe(prelanzamiento, tiempo_de_vuelo, destino, tanque_externo, tanque_interno):\n",
    "    return f\"\"\"Informe de la misión:\n",
    "    Hora de prelanzamiento: {prelanzamiento}\n",
    "    Tiempo de vuelo: {tiempo_de_vuelo}\n",
    "    Destino: {destino}\n",
    "    Tanque externo: {tanque_externo}\n",
    "    Tanque interno: {tanque_interno}\"\"\"\n",
    "\n",
    "print(informe(14, 51, \"Moon\", 200000, 300000))\n"
   ]
  },
  {
   "cell_type": "code",
   "execution_count": 75,
   "metadata": {},
   "outputs": [
    {
     "name": "stdout",
     "output_type": "stream",
     "text": [
      "Informe de la misión:\n",
      "    Destino: La Luna\n",
      "    Tiempo de total de vuelo: 76 minutos\n",
      "    Combustible restante: 500000\n",
      "    \n"
     ]
    }
   ],
   "source": [
    "# Escribe tu nueva función de reporte considerando lo anterior\n",
    "def informe(destino, *minutos, **reserva):\n",
    "    return f\"\"\"Informe de la misión:\n",
    "    Destino: {destino}\n",
    "    Tiempo de total de vuelo: {sum(minutos)} minutos\n",
    "    Combustible restante: {sum(reserva.values())}\n",
    "    \"\"\"\n",
    "\n",
    "print(informe(\"La Luna\", 10, 15, 51, main=300000, external=200000))"
   ]
  },
  {
   "cell_type": "code",
   "execution_count": 76,
   "metadata": {},
   "outputs": [
    {
     "name": "stdout",
     "output_type": "stream",
     "text": [
      "\n",
      "    Misión hacia La Luna\n",
      "    Tiempo total de vuelo: 74 minutos\n",
      "    Reserva de combustible: 500000\n",
      "    tanque principal --> 300000 galones restantes\n",
      "tanque externo --> 200000 galones restantes\n",
      "\n"
     ]
    }
   ],
   "source": [
    "# Escribe tu nueva función\n",
    "\n",
    "def informe(destino, *minutos, **reserva):\n",
    "    informe_detallado = f\"\"\"\n",
    "    Misión hacia {destino}\n",
    "    Tiempo total de vuelo: {sum(minutos)} minutos\n",
    "    Reserva de combustible: {sum(reserva.values())}\n",
    "    \"\"\"\n",
    "    for tanque, galones in reserva.items():\n",
    "        informe_detallado += f\"tanque {tanque} --> {galones} galones restantes\\n\"\n",
    "    return informe_detallado\n",
    "\n",
    "print(informe(\"La Luna\", 8, 11, 55, principal=300000, externo=200000))"
   ]
  }
 ],
 "metadata": {
  "interpreter": {
   "hash": "916dbcbb3f70747c44a77c7bcd40155683ae19c65e1c03b4aa3499c5328201f1"
  },
  "kernelspec": {
   "display_name": "Python 3.8.10 64-bit",
   "language": "python",
   "name": "python3"
  },
  "language_info": {
   "codemirror_mode": {
    "name": "ipython",
    "version": 3
   },
   "file_extension": ".py",
   "mimetype": "text/x-python",
   "name": "python",
   "nbconvert_exporter": "python",
   "pygments_lexer": "ipython3",
   "version": "3.8.10"
  },
  "orig_nbformat": 4
 },
 "nbformat": 4,
 "nbformat_minor": 2
}
